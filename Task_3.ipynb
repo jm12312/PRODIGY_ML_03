{
  "nbformat": 4,
  "nbformat_minor": 0,
  "metadata": {
    "colab": {
      "provenance": [],
      "authorship_tag": "ABX9TyN/uDxxVHy45Ob/b5wFH3ia",
      "include_colab_link": true
    },
    "kernelspec": {
      "name": "python3",
      "display_name": "Python 3"
    },
    "language_info": {
      "name": "python"
    }
  },
  "cells": [
    {
      "cell_type": "markdown",
      "metadata": {
        "id": "view-in-github",
        "colab_type": "text"
      },
      "source": [
        "<a href=\"https://colab.research.google.com/github/jm12312/PRODIGY_ML_03/blob/main/Task_3.ipynb\" target=\"_parent\"><img src=\"https://colab.research.google.com/assets/colab-badge.svg\" alt=\"Open In Colab\"/></a>"
      ]
    },
    {
      "cell_type": "code",
      "source": [
        "!pip install opendatasets --quiet\n",
        "import opendatasets as od\n",
        "od.download(\"https://www.kaggle.com/c/dogs-vs-cats/data\")"
      ],
      "metadata": {
        "colab": {
          "base_uri": "https://localhost:8080/"
        },
        "id": "-7lmosR-Cbhw",
        "outputId": "8556e393-4cc7-416f-9cc7-60c00372aba3"
      },
      "execution_count": 5,
      "outputs": [
        {
          "output_type": "stream",
          "name": "stdout",
          "text": [
            "Downloading dogs-vs-cats.zip to ./dogs-vs-cats\n"
          ]
        },
        {
          "output_type": "stream",
          "name": "stderr",
          "text": [
            "100%|██████████| 812M/812M [00:04<00:00, 174MB/s]\n"
          ]
        },
        {
          "output_type": "stream",
          "name": "stdout",
          "text": [
            "\n",
            "Extracting archive ./dogs-vs-cats/dogs-vs-cats.zip to ./dogs-vs-cats\n"
          ]
        }
      ]
    },
    {
      "cell_type": "code",
      "execution_count": 6,
      "metadata": {
        "id": "CMSW5QNUCMXh"
      },
      "outputs": [],
      "source": [
        "import pandas as pd\n",
        "import numpy as np\n",
        "import os\n",
        "import zipfile"
      ]
    },
    {
      "cell_type": "code",
      "source": [
        "with zipfile.ZipFile('dogs-vs-cats/train.zip', 'r') as zip_ref:\n",
        "    zip_ref.extractall('working/train')\n",
        "with zipfile.ZipFile('dogs-vs-cats/test1.zip', 'r') as zip_ref:\n",
        "    zip_ref.extractall('working/test')"
      ],
      "metadata": {
        "id": "XcQd3M-sC4nm"
      },
      "execution_count": 9,
      "outputs": []
    },
    {
      "cell_type": "code",
      "source": [
        "train_dir = 'working/train/train'\n",
        "test_dir = 'working/test/test1'"
      ],
      "metadata": {
        "id": "thIEzCVpDp4X"
      },
      "execution_count": 10,
      "outputs": []
    },
    {
      "cell_type": "code",
      "source": [
        "from torch.utils.data import Dataset, DataLoader\n",
        "import torchvision.transforms as transforms\n",
        "from PIL import Image"
      ],
      "metadata": {
        "id": "7ZBGa8FaFhCd"
      },
      "execution_count": 13,
      "outputs": []
    },
    {
      "cell_type": "code",
      "source": [
        "class CustomImageDataset(Dataset):\n",
        "    def __init__(self, image_dir, transform=None):\n",
        "        self.image_dir = image_dir\n",
        "        self.transform = transform\n",
        "        self.image_paths = []\n",
        "        self.labels = []\n",
        "        # Iterate directly through files in the image directory\n",
        "        for filename in os.listdir(image_dir):\n",
        "            if filename.endswith(('.jpg', '.jpeg', '.png')):  # Ensure we only process image files\n",
        "                image_path = os.path.join(image_dir, filename)\n",
        "                label = 0 if 'cat' in filename else 1  # Determine label from filename\n",
        "                self.image_paths.append(image_path)\n",
        "                self.labels.append(label)\n",
        "\n",
        "    def __len__(self):\n",
        "        return len(self.image_paths)\n",
        "\n",
        "    def __getitem__(self, idx):\n",
        "        img_path = self.image_paths[idx]\n",
        "        image = Image.open(img_path).convert('RGB')\n",
        "        label = self.labels[idx]\n",
        "\n",
        "        if self.transform:\n",
        "            image = self.transform(image)\n",
        "\n",
        "        return image, label"
      ],
      "metadata": {
        "id": "gJmJzxQeFP7W"
      },
      "execution_count": 16,
      "outputs": []
    },
    {
      "cell_type": "code",
      "source": [
        "transform = transforms.Compose([\n",
        "    transforms.Resize((32, 32)),  # Resize to the required input size for the pre-trained models\n",
        "    transforms.ToTensor(),  # Convert image to tensor\n",
        "    transforms.Normalize(mean=[0.485, 0.456, 0.406], std=[0.229, 0.224, 0.225])  # Normalize for pre-trained models\n",
        "])\n",
        "\n",
        "# Create the train and test datasets\n",
        "train_dataset = CustomImageDataset(image_dir=train_dir, transform=transform)\n",
        "test_dataset = CustomImageDataset(image_dir=test_dir, transform=transform)\n",
        "\n",
        "# Create DataLoaders\n",
        "# train_loader = DataLoader(train_dataset, batch_size=32, shuffle=True)\n",
        "# test_loader = DataLoader(test_dataset, batch_size=32, shuffle=False)"
      ],
      "metadata": {
        "id": "Qq4Oqw3mFjZG"
      },
      "execution_count": 27,
      "outputs": []
    },
    {
      "cell_type": "code",
      "source": [
        "# for img, label in train_dataset:\n",
        "#   print(img.shape)\n",
        "#   print(label)\n",
        "#   break\n",
        "train_dataset"
      ],
      "metadata": {
        "colab": {
          "base_uri": "https://localhost:8080/"
        },
        "id": "bDToRVhtGU_O",
        "outputId": "5041e7ab-04d8-4494-fa62-7163ce1d33d1"
      },
      "execution_count": 28,
      "outputs": [
        {
          "output_type": "execute_result",
          "data": {
            "text/plain": [
              "<__main__.CustomImageDataset at 0x7c084d9b3d90>"
            ]
          },
          "metadata": {},
          "execution_count": 28
        }
      ]
    },
    {
      "cell_type": "code",
      "source": [
        "images = []\n",
        "labels = []\n",
        "\n",
        "# Collect all images and labels\n",
        "for img, lbl in train_dataset:\n",
        "    images.append(img.numpy())  # Convert the image to a numpy array\n",
        "    labels.append(lbl)\n",
        "\n",
        "# Convert to numpy arrays\n",
        "X = np.array(images)\n",
        "y = np.array(labels)"
      ],
      "metadata": {
        "id": "BZjWyaAaG3I9"
      },
      "execution_count": 33,
      "outputs": []
    },
    {
      "cell_type": "code",
      "source": [
        "from sklearn.model_selection import train_test_split\n",
        "# Flatten the images (convert from (channels, height, width) to (height * width * channels))\n",
        "X_flat = X.reshape(X.shape[0], -1)\n",
        "\n",
        "# Perform the train-test split\n",
        "X_train, X_test, y_train, y_test = train_test_split(X_flat, y, test_size=0.2, random_state=42)\n",
        "\n",
        "# Check the shapes\n",
        "print(f\"Training data shape: {X_train.shape}\")\n",
        "print(f\"Test data shape: {X_test.shape}\")"
      ],
      "metadata": {
        "colab": {
          "base_uri": "https://localhost:8080/"
        },
        "id": "vIeGINtbGyx_",
        "outputId": "5fa5d3f1-16fc-4109-df38-7aa931ae9894"
      },
      "execution_count": 34,
      "outputs": [
        {
          "output_type": "stream",
          "name": "stdout",
          "text": [
            "Training data shape: (20000, 3072)\n",
            "Test data shape: (5000, 3072)\n"
          ]
        }
      ]
    },
    {
      "cell_type": "code",
      "source": [
        "from sklearn.preprocessing import StandardScaler\n",
        "from sklearn import svm\n",
        "from sklearn.metrics import classification_report"
      ],
      "metadata": {
        "id": "apY3J3t3IS90"
      },
      "execution_count": 35,
      "outputs": []
    },
    {
      "cell_type": "code",
      "source": [
        "scaler = StandardScaler()\n",
        "X_train_scaled = scaler.fit_transform(X_train)\n",
        "X_test_scaled = scaler.transform(X_test)\n",
        "\n",
        "# Train an SVM classifier\n",
        "clf = svm.SVC(kernel='rbf', random_state=42)\n",
        "clf.fit(X_train_scaled, y_train)\n",
        "\n",
        "# Predict on the test set\n",
        "y_pred = clf.predict(X_test_scaled)\n",
        "\n",
        "# Evaluate the model\n",
        "print(classification_report(y_test, y_pred))"
      ],
      "metadata": {
        "colab": {
          "base_uri": "https://localhost:8080/"
        },
        "id": "hiyQtQ1mIRG_",
        "outputId": "47764664-7d21-4fc7-be72-ebbcb66d9743"
      },
      "execution_count": 36,
      "outputs": [
        {
          "output_type": "stream",
          "name": "stdout",
          "text": [
            "              precision    recall  f1-score   support\n",
            "\n",
            "           0       0.67      0.69      0.68      2491\n",
            "           1       0.69      0.66      0.67      2509\n",
            "\n",
            "    accuracy                           0.68      5000\n",
            "   macro avg       0.68      0.68      0.68      5000\n",
            "weighted avg       0.68      0.68      0.68      5000\n",
            "\n"
          ]
        }
      ]
    },
    {
      "cell_type": "code",
      "source": [
        "import matplotlib.pyplot as plt\n",
        "from sklearn.metrics import confusion_matrix\n",
        "import seaborn as sns  # For better visualization of the confusion matrix\n",
        "cm = confusion_matrix(y_test, y_pred)\n",
        "# Plot the confusion matrix as a heatmap\n",
        "plt.figure(figsize=(6, 5))\n",
        "sns.heatmap(cm, annot=True, fmt='d', cmap='Blues', xticklabels=['Cat', 'Dog'], yticklabels=['Cat', 'Dog'])\n",
        "\n",
        "# Add labels and title\n",
        "plt.xlabel('Predicted Label')\n",
        "plt.ylabel('True Label')\n",
        "plt.title('Confusion Matrix')\n",
        "plt.show()\n"
      ],
      "metadata": {
        "colab": {
          "base_uri": "https://localhost:8080/",
          "height": 487
        },
        "id": "c6Un8ogoOnOE",
        "outputId": "67b0df41-15ed-4b3e-8161-919b6daef518"
      },
      "execution_count": 37,
      "outputs": [
        {
          "output_type": "display_data",
          "data": {
            "text/plain": [
              "<Figure size 600x500 with 2 Axes>"
            ],
            "image/png": "[encoded data removed]"
          },
          "metadata": {}
        }
      ]
    }
  ]
}